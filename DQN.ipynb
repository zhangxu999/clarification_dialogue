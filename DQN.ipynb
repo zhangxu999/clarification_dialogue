{
 "cells": [
  {
   "cell_type": "code",
   "execution_count": 1,
   "id": "20bb5fea-445b-4cc5-a50d-096a819520d0",
   "metadata": {},
   "outputs": [],
   "source": [
    "# import gymnasium as gym\n",
    "import math\n",
    "import random\n",
    "import matplotlib\n",
    "import matplotlib.pyplot as plt\n",
    "from collections import namedtuple, deque\n",
    "from itertools import count\n",
    "\n",
    "import torch\n",
    "import torch.nn as nn\n",
    "import torch.optim as optim\n",
    "import torch.nn.functional as F\n",
    "import tqdm"
   ]
  },
  {
   "cell_type": "code",
   "execution_count": null,
   "id": "d40598c2-4578-49eb-a5ac-201423364066",
   "metadata": {},
   "outputs": [],
   "source": [
    "embedding_model = EmbeddingModel()"
   ]
  },
  {
   "cell_type": "code",
   "execution_count": 105,
   "id": "9c22ddf2-fea3-421b-a879-52ebdfd14b2e",
   "metadata": {},
   "outputs": [],
   "source": [
    "from imp import reload\n",
    "import rl_dqn\n",
    "import environment\n",
    "reload(rl_dqn)\n",
    "reload(environment)\n",
    "\n",
    "\n",
    "from rl_dqn import ReplayMemory, DQN, Transition\n",
    "from embedding import EmbeddingModel\n",
    "from environment import OriginAgent, DialougeEnv\n",
    "\n",
    "\n",
    "\n",
    "origin_agent = OriginAgent()\n",
    "env = DialougeEnv(origin_agent,embedding_model)\n",
    "\n",
    "device = torch.device(\"cuda\" if torch.cuda.is_available() else \"cpu\")\n",
    "\n",
    "# BATCH_SIZE is the number of transitions sampled from the replay buffer\n",
    "# GAMMA is the discount factor as mentioned in the previous section\n",
    "# EPS_START is the starting value of epsilon\n",
    "# EPS_END is the final value of epsilon\n",
    "# EPS_DECAY controls the rate of exponential decay of epsilon, higher means a slower decay\n",
    "# TAU is the update rate of the target network\n",
    "# LR is the learning rate of the ``AdamW`` optimizer\n",
    "BATCH_SIZE = 128\n",
    "GAMMA = 0.99\n",
    "EPS_START = 0.9\n",
    "EPS_END = 0.05\n",
    "EPS_DECAY = 1000\n",
    "TAU = 0.005\n",
    "LR = 1e-4\n",
    "\n",
    "# Get number of actions from gym action space\n",
    "n_actions = env.action_space.n\n",
    "# Get the number of state observations\n",
    "state, info = env.reset()\n",
    "n_observations = len(state)\n",
    "\n",
    "policy_net = DQN(n_observations, n_actions).to(device)\n",
    "target_net = DQN(n_observations, n_actions).to(device)\n",
    "target_net.load_state_dict(policy_net.state_dict())\n",
    "\n",
    "optimizer = optim.AdamW(policy_net.parameters(), lr=LR, amsgrad=True)\n",
    "memory = ReplayMemory(10000)\n",
    "\n",
    "\n",
    "steps_done = 0\n",
    "\n",
    "\n",
    "def select_action(state):\n",
    "    global steps_done\n",
    "    sample = random.random()\n",
    "    eps_threshold = EPS_END + (EPS_START - EPS_END) * \\\n",
    "        math.exp(-1. * steps_done / EPS_DECAY)\n",
    "    steps_done += 1\n",
    "    if sample > eps_threshold:\n",
    "        with torch.no_grad():\n",
    "            # t.max(1) will return the largest column value of each row.\n",
    "            # second column on max result is index of where max element was\n",
    "            # found, so we pick action with the larger expected reward.\n",
    "            return policy_net(state).max(1)[1].view(1, 1)\n",
    "    else:\n",
    "        return torch.tensor([[env.action_space.sample()]], device=device, dtype=torch.long)\n",
    "\n",
    "\n",
    "episode_durations = []\n",
    "\n",
    "def optimize_model():\n",
    "    if len(memory) < BATCH_SIZE:\n",
    "        return\n",
    "    transitions = memory.sample(BATCH_SIZE)\n",
    "    # Transpose the batch (see https://stackoverflow.com/a/19343/3343043 for\n",
    "    # detailed explanation). This converts batch-array of Transitions\n",
    "    # to Transition of batch-arrays.\n",
    "    batch = Transition(*zip(*transitions))\n",
    "\n",
    "    # Compute a mask of non-final states and concatenate the batch elements\n",
    "    # (a final state would've been the one after which simulation ended)\n",
    "    non_final_mask = torch.tensor(tuple(map(lambda s: s is not None,\n",
    "                                          batch.next_state)), device=device, dtype=torch.bool)\n",
    "    non_final_next_states = torch.cat([s for s in batch.next_state\n",
    "                                                if s is not None])\n",
    "    state_batch = torch.cat(batch.state)\n",
    "    action_batch = torch.cat(batch.action)\n",
    "    reward_batch = torch.cat(batch.reward)\n",
    "\n",
    "    # Compute Q(s_t, a) - the model computes Q(s_t), then we select the\n",
    "    # columns of actions taken. These are the actions which would've been taken\n",
    "    # for each batch state according to policy_net\n",
    "    state_action_values = policy_net(state_batch).gather(1, action_batch)\n",
    "\n",
    "    # Compute V(s_{t+1}) for all next states.\n",
    "    # Expected values of actions for non_final_next_states are computed based\n",
    "    # on the \"older\" target_net; selecting their best reward with max(1)[0].\n",
    "    # This is merged based on the mask, such that we'll have either the expected\n",
    "    # state value or 0 in case the state was final.\n",
    "    next_state_values = torch.zeros(BATCH_SIZE, device=device)\n",
    "    with torch.no_grad():\n",
    "        next_state_values[non_final_mask] = target_net(non_final_next_states).max(1)[0]\n",
    "    # Compute the expected Q values\n",
    "    expected_state_action_values = (next_state_values * GAMMA) + reward_batch\n",
    "\n",
    "    # Compute Huber loss\n",
    "    criterion = nn.SmoothL1Loss()\n",
    "    loss = criterion(state_action_values, expected_state_action_values.unsqueeze(1))\n",
    "\n",
    "    # Optimize the model\n",
    "    optimizer.zero_grad()\n",
    "    loss.backward()\n",
    "    # In-place gradient clipping\n",
    "    torch.nn.utils.clip_grad_value_(policy_net.parameters(), 100)\n",
    "    optimizer.step()\n",
    "\n",
    "if torch.cuda.is_available():\n",
    "    num_episodes = 600\n",
    "else:\n",
    "    num_episodes = 600\n",
    "\n",
    "return_list = []"
   ]
  },
  {
   "cell_type": "code",
   "execution_count": 107,
   "id": "e486dc91-a6e3-41b3-b646-93242e306843",
   "metadata": {},
   "outputs": [
    {
     "name": "stderr",
     "output_type": "stream",
     "text": [
      "  0%|                                                                                                                        | 0/600 [00:00<?, ?it/s]/tmp/ipykernel_752/1040571505.py:5: UserWarning: To copy construct from a tensor, it is recommended to use sourceTensor.clone().detach() or sourceTensor.clone().detach().requires_grad_(True), rather than torch.tensor(sourceTensor).\n",
      "  state = torch.tensor(state, dtype=torch.float32, device=device).unsqueeze(0)\n",
      "  0%|▏                                                                                                               | 1/600 [00:00<02:43,  3.66it/s]/tmp/ipykernel_752/1040571505.py:16: UserWarning: To copy construct from a tensor, it is recommended to use sourceTensor.clone().detach() or sourceTensor.clone().detach().requires_grad_(True), rather than torch.tensor(sourceTensor).\n",
      "  next_state = torch.tensor(observation, dtype=torch.float32, device=device).unsqueeze(0)\n",
      "100%|██████████████████████████████████████████████████████████████████████████████████████████████████████████████| 600/600 [02:15<00:00,  4.43it/s]\n"
     ]
    }
   ],
   "source": [
    "for i_episode in tqdm.tqdm(range(num_episodes)):\n",
    "    # Initialize the environment and get it's state\n",
    "    returns = 0\n",
    "    state, info = env.reset()\n",
    "    state = torch.tensor(state, dtype=torch.float32, device=device).unsqueeze(0)\n",
    "    for t in count():\n",
    "        action = select_action(state)\n",
    "        observation, reward, terminated, truncated, _ = env.step(action.item())\n",
    "        reward = torch.tensor([reward], device=device)\n",
    "        returns += reward\n",
    "        done = terminated or truncated\n",
    "\n",
    "        if terminated:\n",
    "            next_state = None\n",
    "        else:\n",
    "            next_state = torch.tensor(observation, dtype=torch.float32, device=device).unsqueeze(0)\n",
    "\n",
    "        # Store the transition in memory\n",
    "        memory.push(state, action, next_state, reward)\n",
    "\n",
    "        # Move to the next state\n",
    "        state = next_state\n",
    "\n",
    "        # Perform one step of the optimization (on the policy network)\n",
    "        optimize_model()\n",
    "\n",
    "        # Soft update of the target network's weights\n",
    "        # θ′ ← τ θ + (1 −τ )θ′\n",
    "        target_net_state_dict = target_net.state_dict()\n",
    "        policy_net_state_dict = policy_net.state_dict()\n",
    "        for key in policy_net_state_dict:\n",
    "            target_net_state_dict[key] = policy_net_state_dict[key]*TAU + target_net_state_dict[key]*(1-TAU)\n",
    "        target_net.load_state_dict(target_net_state_dict)\n",
    "\n",
    "        if done:\n",
    "            return_list.append(returns)\n",
    "            # plot_durations()\n",
    "            break\n",
    "    "
   ]
  },
  {
   "cell_type": "code",
   "execution_count": null,
   "id": "d4ddd5a5-818a-4cb1-8c91-7a60eb123c1b",
   "metadata": {},
   "outputs": [],
   "source": [
    "env.history[0].substitutes"
   ]
  },
  {
   "cell_type": "code",
   "execution_count": null,
   "id": "8a1c83fc-a12d-47dd-a435-fb18daf8c0e7",
   "metadata": {},
   "outputs": [],
   "source": [
    "self = origin_agent"
   ]
  },
  {
   "cell_type": "code",
   "execution_count": 54,
   "id": "afc7f6e2-6abf-40c1-88ad-588efc7773b3",
   "metadata": {},
   "outputs": [],
   "source": [
    "context_id = random.choice(self.context_ids)\n",
    "context = self.contexts[context_id]['context']\n",
    "target = self.contexts[context_id]['targets'][0]\n",
    "target_text = target['target']\n",
    "substitutes = [(sub['substitute'],sub['label_score']) for sub in target['substitutes']]\n",
    "sorted_subs = sorted(substitutes,key=lambda x:x[1],reverse=True)"
   ]
  },
  {
   "cell_type": "code",
   "execution_count": 55,
   "id": "0ba5bef0-80b7-42ea-91b9-54f025fa0063",
   "metadata": {},
   "outputs": [
    {
     "data": {
      "text/plain": [
       "[('arise', 0.7),\n",
       " ('rise', 0.5),\n",
       " ('erect', 0.3),\n",
       " ('stop', 0.2),\n",
       " ('rest', 0.2),\n",
       " ('hold', 0.2),\n",
       " ('be vertical', 0.2),\n",
       " ('settle', 0.2),\n",
       " ('position', 0.2),\n",
       " ('remain', 0.2),\n",
       " ('be or get upright be', 0.2),\n",
       " ('pause', 0.1),\n",
       " ('halt', 0.1),\n",
       " ('obtain', 0.1),\n",
       " ('rank', 0.1),\n",
       " ('prevail', 0.1),\n",
       " ('mount', 0.1),\n",
       " ('belong', 0.0),\n",
       " ('put', 0.0),\n",
       " ('stay', 0.0),\n",
       " ('be situated', 0.0),\n",
       " ('dispose', 0.0),\n",
       " ('be valid', 0.0),\n",
       " ('poise', 0.0),\n",
       " ('locate', 0.0),\n",
       " ('continue', 0.0),\n",
       " ('cock', 0.0),\n",
       " ('set', 0.0),\n",
       " ('last', 0.0),\n",
       " ('occupy', 0.0),\n",
       " ('lift', 0.0),\n",
       " ('endure', 0.0),\n",
       " ('jump up', 0.0),\n",
       " ('get up', 0.0),\n",
       " ('take up', 0.0),\n",
       " ('be on feet', 0.0),\n",
       " ('place', 0.0),\n",
       " ('fill', 0.0),\n",
       " ('become upright', 0.0),\n",
       " ('be in force, exist be located,', 0.0)]"
      ]
     },
     "execution_count": 55,
     "metadata": {},
     "output_type": "execute_result"
    }
   ],
   "source": [
    "sorted_subs"
   ]
  },
  {
   "cell_type": "code",
   "execution_count": 109,
   "id": "492a925e-f6a7-44fa-aad4-c505c4cfb8bc",
   "metadata": {},
   "outputs": [
    {
     "name": "stdout",
     "output_type": "stream",
     "text": [
      "Complete\n"
     ]
    },
    {
     "data": {
      "image/png": "[encoded data removed]",
      "text/plain": [
       "<Figure size 432x288 with 1 Axes>"
      ]
     },
     "metadata": {
      "needs_background": "light"
     },
     "output_type": "display_data"
    },
    {
     "data": {
      "text/plain": [
       "<Figure size 432x288 with 0 Axes>"
      ]
     },
     "metadata": {},
     "output_type": "display_data"
    }
   ],
   "source": [
    "x = list(range(len(return_list)))\n",
    "plt.plot(x,return_list)\n",
    "plt.xlabel(\"episodes\")\n",
    "plt.ylabel(\"returns\")\n",
    "plt.figure()\n",
    "\n",
    "print('Complete')\n",
    "# plot_durations(show_result=True)\n",
    "# plt.ioff()\n",
    "# plt.show()"
   ]
  },
  {
   "cell_type": "code",
   "execution_count": null,
   "id": "89d21865-2838-4f4a-ba04-079c5910feda",
   "metadata": {},
   "outputs": [],
   "source": []
  }
 ],
 "metadata": {
  "kernelspec": {
   "display_name": "Python 3 (ipykernel)",
   "language": "python",
   "name": "python3"
  },
  "language_info": {
   "codemirror_mode": {
    "name": "ipython",
    "version": 3
   },
   "file_extension": ".py",
   "mimetype": "text/x-python",
   "name": "python",
   "nbconvert_exporter": "python",
   "pygments_lexer": "ipython3",
   "version": "3.8.10"
  }
 },
 "nbformat": 4,
 "nbformat_minor": 5
}
